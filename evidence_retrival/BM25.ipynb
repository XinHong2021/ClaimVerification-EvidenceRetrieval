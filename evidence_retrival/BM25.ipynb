{
 "cells": [
  {
   "cell_type": "code",
   "execution_count": 1,
   "metadata": {},
   "outputs": [],
   "source": [
    "import json\n",
    "import matplotlib.pyplot as plt\n",
    "import numpy as np\n",
    "import pandas as pd\n",
    "import re\n",
    "from statistics import mean\n",
    "import pickle\n",
    "from nltk.corpus import stopwords\n",
    "from nltk.tokenize import word_tokenize\n",
    "pd.set_option('display.float_format', '{:.1f}'.format)"
   ]
  },
  {
   "cell_type": "code",
   "execution_count": 2,
   "metadata": {},
   "outputs": [
    {
     "name": "stdout",
     "output_type": "stream",
     "text": [
      "/Users/macbookpro/Documents/COMP90042_NLP/Project/COMP90042_2024_Project\n"
     ]
    }
   ],
   "source": [
    "%cd /Users/macbookpro/Documents/COMP90042_NLP/Project/COMP90042_2024_Project"
   ]
  },
  {
   "cell_type": "code",
   "execution_count": 3,
   "metadata": {},
   "outputs": [],
   "source": [
    "with open(\"data/train-claims.json\", 'r') as file:\n",
    "    train_claims = json.load(file)\n",
    "\n",
    "with open(\"data/dev-claims.json\", 'r') as file:\n",
    "    dev_claims = json.load(file)\n",
    "\n",
    "with open(\"data/test-claims-unlabelled.json\", 'r') as file:\n",
    "    test_claims_unlabelled = json.load(file)\n",
    "\n",
    "with open(\"data/dev-claims-baseline.json\", 'r') as file:\n",
    "    dev_claims_baseline = json.load(file)\n",
    "    \n",
    "with open(\"data/evidence.json\", 'r') as file:\n",
    "    evidence = json.load(file)\n",
    "\n",
    "with open(\"data/external/evidence_climate_2.json\", 'r') as file:\n",
    "    evidence_climate_2 = json.load(file)\n",
    "    \n",
    "label_tags = [\"SUPPORTS\", \"REFUTES\", \"NOT_ENOUGH_INFO\", \"DISPUTED\"]"
   ]
  },
  {
   "cell_type": "code",
   "execution_count": 8,
   "metadata": {},
   "outputs": [],
   "source": [
    "train_claims_dic = [{\"claim_id\": key,\n",
    "                    \"claim_text\": value[\"claim_text\"],\n",
    "                    \"claim_label\": value[\"claim_label\"],\n",
    "                    \"evidences_id\": value[\"evidences\"]} for (key,value) in train_claims.items()]\n",
    "train_claims_df = pd.json_normalize(train_claims_dic)\n",
    "\n",
    "dev_claims_dic = [{\"claim_id\": key,\n",
    "                    \"claim_text\": value[\"claim_text\"],\n",
    "                    \"claim_label\": value[\"claim_label\"],\n",
    "                    \"evidences_id\": value[\"evidences\"]} for (key,value) in dev_claims.items()]\n",
    "dev_claims_df = pd.json_normalize(dev_claims_dic)\n",
    "\n",
    "dev_claims_baseline_dic = [{\"claim_id\": key,\n",
    "                    \"claim_text\": value[\"claim_text\"],\n",
    "                    \"claim_label\": value[\"claim_label\"],\n",
    "                    \"evidences_id\": value[\"evidences\"]} for (key,value) in dev_claims_baseline.items()]\n",
    "dev_claims_baseline_df = pd.json_normalize(dev_claims_baseline_dic)\n",
    "\n",
    "test_claims_dic = [{\"claim_id\": key,\n",
    "                    \"claim_text\": value[\"claim_text\"]} for (key,value) in test_claims_unlabelled.items()]\n",
    "test_claims_df = pd.json_normalize(test_claims_dic)\n",
    "\n",
    "evidence_dic = [{\"evidence_id\": key,\n",
    "                             \"evidence_text\": value\n",
    "                             } for (key, value) in evidence.items()]\n",
    "evidence_df = pd.json_normalize(evidence_dic)"
   ]
  },
  {
   "cell_type": "markdown",
   "metadata": {},
   "source": [
    "Prepare data"
   ]
  },
  {
   "cell_type": "code",
   "execution_count": 6,
   "metadata": {},
   "outputs": [],
   "source": [
    "from nltk.tokenize import word_tokenize\n",
    "evid_climate = [word_tokenize(text.lower()) for text in evidence_climate_2.values()]"
   ]
  },
  {
   "cell_type": "code",
   "execution_count": 11,
   "metadata": {},
   "outputs": [],
   "source": [
    "train_claim_text = [word_tokenize(text.lower()) for text in train_claims_df['claim_text']]\n",
    "dev_claim_text = [word_tokenize(text.lower()) for text in dev_claims_df['claim_text']]\n",
    "test_claim_text = [word_tokenize(text.lower()) for text in test_claims_df['claim_text']]"
   ]
  },
  {
   "cell_type": "code",
   "execution_count": 12,
   "metadata": {},
   "outputs": [],
   "source": [
    "from rank_bm25 import BM25Okapi\n",
    "from sklearn.metrics.pairwise import cosine_similarity\n",
    "\n",
    "# Creating a BM25 object\n",
    "bm25 = BM25Okapi(evid_climate+train_claim_text)"
   ]
  },
  {
   "cell_type": "code",
   "execution_count": 29,
   "metadata": {},
   "outputs": [],
   "source": [
    "import numpy as np\n",
    "train_claim_embd = [bm25.get_scores(text) for text in train_claim_text]\n",
    "train_claim_embd = np.array(train_claim_embd)"
   ]
  },
  {
   "cell_type": "code",
   "execution_count": 30,
   "metadata": {},
   "outputs": [
    {
     "name": "stdout",
     "output_type": "stream",
     "text": [
      "dev claim embedding shape (154, 522731)\n",
      "test claim embedding shape (153, 522731)\n"
     ]
    },
    {
     "ename": "",
     "evalue": "",
     "output_type": "error",
     "traceback": [
      "\u001b[1;31mThe Kernel crashed while executing code in the current cell or a previous cell. \n",
      "\u001b[1;31mPlease review the code in the cell(s) to identify a possible cause of the failure. \n",
      "\u001b[1;31mClick <a href='https://aka.ms/vscodeJupyterKernelCrash'>here</a> for more info. \n",
      "\u001b[1;31mView Jupyter <a href='command:jupyter.viewOutput'>log</a> for further details."
     ]
    }
   ],
   "source": [
    "dev_claim_embd = [bm25.get_scores(text) for text in dev_claim_text]\n",
    "dev_claim_embd = np.array(dev_claim_embd)\n",
    "print(\"dev claim embedding shape\", dev_claim_embd.shape)\n",
    "\n",
    "test_claim_embd = [bm25.get_scores(text) for text in test_claim_text]\n",
    "test_claim_embd = np.array(test_claim_embd)\n",
    "print(\"test claim embedding shape\", test_claim_embd.shape)\n",
    "\n",
    "evd_embd = [bm25.get_scores(text) for text in evid_climate]\n",
    "evd_embd = np.array(evd_embd)\n",
    "print(\"evidence embedding shape\", evd_embd.shape)"
   ]
  },
  {
   "cell_type": "code",
   "execution_count": null,
   "metadata": {},
   "outputs": [
    {
     "data": {
      "text/plain": [
       "<rank_bm25.BM25Okapi at 0x7fa2a8cca7c0>"
      ]
     },
     "execution_count": 13,
     "metadata": {},
     "output_type": "execute_result"
    }
   ],
   "source": [
    "with open(\"data/BM25/train_claim_embd.json\", \"w\") as file:\n",
    "    json.dump(train_claim_embd, file)\n",
    "\n",
    "with open(\"data/BM25/dev_claim_embd.json\", \"w\") as file:\n",
    "    json.dump(dev_claim_embd, file)\n",
    "\n",
    "with open(\"data/BM25/test_claim_embd.json\", \"w\") as file:\n",
    "    json.dump(test_claim_embd, file)\n",
    "\n",
    "with open(\"data/BM25/evd_embd.json\", \"w\") as file:\n",
    "    json.dump(evd_embd, file)"
   ]
  },
  {
   "cell_type": "code",
   "execution_count": 17,
   "metadata": {},
   "outputs": [],
   "source": [
    "\n",
    "\n",
    "claim_scores = bm25.get_scores(train_claim_text[0])\n",
    "evid_score = bm25.get_scores(evid_climate[0])"
   ]
  },
  {
   "cell_type": "code",
   "execution_count": 27,
   "metadata": {},
   "outputs": [
    {
     "data": {
      "text/plain": [
       "(522731, 1)"
      ]
     },
     "execution_count": 27,
     "metadata": {},
     "output_type": "execute_result"
    }
   ],
   "source": [
    "evid_score.reshape(-1,1).shape"
   ]
  },
  {
   "cell_type": "code",
   "execution_count": 23,
   "metadata": {},
   "outputs": [
    {
     "data": {
      "text/plain": [
       "(1, 522731)"
      ]
     },
     "execution_count": 23,
     "metadata": {},
     "output_type": "execute_result"
    }
   ],
   "source": [
    "claim_scores.reshape(1,-1).shape"
   ]
  },
  {
   "cell_type": "code",
   "execution_count": 28,
   "metadata": {},
   "outputs": [
    {
     "data": {
      "text/plain": [
       "array([[0.89884075]])"
      ]
     },
     "execution_count": 28,
     "metadata": {},
     "output_type": "execute_result"
    }
   ],
   "source": [
    "cosine_similarity(claim_scores.reshape(1,-1), evid_score.reshape(1,-1))"
   ]
  },
  {
   "cell_type": "code",
   "execution_count": null,
   "metadata": {},
   "outputs": [],
   "source": []
  }
 ],
 "metadata": {
  "kernelspec": {
   "display_name": "base",
   "language": "python",
   "name": "python3"
  },
  "language_info": {
   "codemirror_mode": {
    "name": "ipython",
    "version": 3
   },
   "file_extension": ".py",
   "mimetype": "text/x-python",
   "name": "python",
   "nbconvert_exporter": "python",
   "pygments_lexer": "ipython3",
   "version": "3.9.7"
  }
 },
 "nbformat": 4,
 "nbformat_minor": 2
}
